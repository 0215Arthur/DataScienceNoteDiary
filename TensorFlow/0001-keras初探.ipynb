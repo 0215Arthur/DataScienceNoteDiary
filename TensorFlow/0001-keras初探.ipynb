{
  "nbformat": 4,
  "nbformat_minor": 0,
  "metadata": {
    "colab": {
      "name": "keras初探.ipynb",
      "version": "0.3.2",
      "provenance": [],
      "collapsed_sections": []
    },
    "kernelspec": {
      "name": "python3",
      "display_name": "Python 3"
    }
  },
  "cells": [
    {
      "metadata": {
        "id": "o6lVJPzi50My",
        "colab_type": "text"
      },
      "cell_type": "markdown",
      "source": [
        "# keras初探"
      ]
    },
    {
      "metadata": {
        "id": "ydptRiqszwn4",
        "colab_type": "code",
        "colab": {}
      },
      "cell_type": "code",
      "source": [
        "import tensorflow as tf\n",
        "from tensorflow.keras import layers"
      ],
      "execution_count": 0,
      "outputs": []
    },
    {
      "metadata": {
        "id": "Zqs0P0sGz_hd",
        "colab_type": "code",
        "outputId": "7e3e1d65-7b99-4f86-bf99-6b75f5a5b2c0",
        "colab": {
          "base_uri": "https://localhost:8080/",
          "height": 51
        }
      },
      "cell_type": "code",
      "source": [
        "print(tf.VERSION)\n",
        "print(tf.keras.__version__)"
      ],
      "execution_count": 0,
      "outputs": [
        {
          "output_type": "stream",
          "text": [
            "1.13.1\n",
            "2.2.4-tf\n"
          ],
          "name": "stdout"
        }
      ]
    },
    {
      "metadata": {
        "id": "ViJMkqr_5vb_",
        "colab_type": "text"
      },
      "cell_type": "markdown",
      "source": [
        "## 定义模型"
      ]
    },
    {
      "metadata": {
        "id": "lR8QIzui2F9_",
        "colab_type": "code",
        "outputId": "55f229e7-8c24-4c80-b49e-1667bbe5afeb",
        "colab": {
          "base_uri": "https://localhost:8080/",
          "height": 88
        }
      },
      "cell_type": "code",
      "source": [
        "model = tf.keras.Sequential([\n",
        "    layers.Dense(64, activation = 'relu'),\n",
        "    layers.Dense(64, activation = 'relu'),\n",
        "    layers.Dense(10, activation = 'softmax')\n",
        "])\n",
        "\n",
        "model.compile(optimizer = tf.train.AdamOptimizer(0.001), \n",
        "              loss = 'categorical_crossentropy', \n",
        "              metrics = ['accuracy'])"
      ],
      "execution_count": 0,
      "outputs": [
        {
          "output_type": "stream",
          "text": [
            "WARNING:tensorflow:From /usr/local/lib/python3.6/dist-packages/tensorflow/python/ops/resource_variable_ops.py:435: colocate_with (from tensorflow.python.framework.ops) is deprecated and will be removed in a future version.\n",
            "Instructions for updating:\n",
            "Colocations handled automatically by placer.\n"
          ],
          "name": "stdout"
        }
      ]
    },
    {
      "metadata": {
        "id": "TCLwMBBF57wC",
        "colab_type": "text"
      },
      "cell_type": "markdown",
      "source": [
        "## 运行模型"
      ]
    },
    {
      "metadata": {
        "id": "mvySd5WN36Sc",
        "colab_type": "code",
        "outputId": "e96b2821-d11e-4c92-9735-bc905e3c0d4c",
        "colab": {
          "base_uri": "https://localhost:8080/",
          "height": 391
        }
      },
      "cell_type": "code",
      "source": [
        "import numpy as np\n",
        "\n",
        "\n",
        "# 训练数据集\n",
        "data = np.random.random((1000, 32))\n",
        "label = np.random.random((1000, 10))\n",
        "\n",
        "# validation数据集\n",
        "val_data = np.random.random((100, 32))\n",
        "val_labels = np.random.random((100, 10))\n",
        "\n",
        "model.fit(data, label, epochs = 10, batch_size = 32,\n",
        "          validation_data = (val_data, val_labels))"
      ],
      "execution_count": 0,
      "outputs": [
        {
          "output_type": "stream",
          "text": [
            "Train on 1000 samples, validate on 100 samples\n",
            "Epoch 1/10\n",
            "1000/1000 [==============================] - 0s 88us/sample - loss: 11.5703 - acc: 0.1030 - val_loss: 11.2487 - val_acc: 0.0200\n",
            "Epoch 2/10\n",
            "1000/1000 [==============================] - 0s 55us/sample - loss: 11.5525 - acc: 0.1270 - val_loss: 11.2418 - val_acc: 0.0500\n",
            "Epoch 3/10\n",
            "1000/1000 [==============================] - 0s 53us/sample - loss: 11.5449 - acc: 0.1350 - val_loss: 11.2472 - val_acc: 0.0600\n",
            "Epoch 4/10\n",
            "1000/1000 [==============================] - 0s 52us/sample - loss: 11.5381 - acc: 0.1520 - val_loss: 11.2520 - val_acc: 0.0400\n",
            "Epoch 5/10\n",
            "1000/1000 [==============================] - 0s 52us/sample - loss: 11.5332 - acc: 0.1460 - val_loss: 11.2560 - val_acc: 0.0700\n",
            "Epoch 6/10\n",
            "1000/1000 [==============================] - 0s 54us/sample - loss: 11.5276 - acc: 0.1560 - val_loss: 11.2541 - val_acc: 0.0800\n",
            "Epoch 7/10\n",
            "1000/1000 [==============================] - 0s 54us/sample - loss: 11.5235 - acc: 0.1560 - val_loss: 11.2565 - val_acc: 0.1000\n",
            "Epoch 8/10\n",
            "1000/1000 [==============================] - 0s 53us/sample - loss: 11.5172 - acc: 0.1660 - val_loss: 11.2660 - val_acc: 0.0700\n",
            "Epoch 9/10\n",
            "1000/1000 [==============================] - 0s 50us/sample - loss: 11.5132 - acc: 0.1660 - val_loss: 11.2662 - val_acc: 0.0600\n",
            "Epoch 10/10\n",
            "1000/1000 [==============================] - 0s 53us/sample - loss: 11.5090 - acc: 0.1640 - val_loss: 11.2650 - val_acc: 0.0900\n"
          ],
          "name": "stdout"
        },
        {
          "output_type": "execute_result",
          "data": {
            "text/plain": [
              "<tensorflow.python.keras.callbacks.History at 0x7ff2d8019a90>"
            ]
          },
          "metadata": {
            "tags": []
          },
          "execution_count": 9
        }
      ]
    },
    {
      "metadata": {
        "id": "khkSua924S9J",
        "colab_type": "code",
        "colab": {}
      },
      "cell_type": "code",
      "source": [
        ""
      ],
      "execution_count": 0,
      "outputs": []
    }
  ]
}